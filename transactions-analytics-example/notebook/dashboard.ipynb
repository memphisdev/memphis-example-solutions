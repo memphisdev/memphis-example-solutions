{
 "cells": [
  {
   "cell_type": "markdown",
   "id": "90c1f97f-a4d9-4d1e-b78c-b848b0e6b268",
   "metadata": {},
   "source": [
    "# Plots of Analyses\n",
    "\n",
    "Plots of the four analyses:\n",
    "\n",
    "1. Weekly transaction volume\n",
    "1. Week-over-week changes in transaction volume\n",
    "1. Week-over-week changes in product sales -- used to find products with large differences in WoW changes\n",
    "1. Weekly produce sales for products identified in step 3\n",
    "\n",
    "Messages are pulled from the four respective Memphis stations and used to create dataframes."
   ]
  },
  {
   "cell_type": "code",
   "execution_count": null,
   "id": "23eb7724-f5a7-405b-adb8-4745bd5590d1",
   "metadata": {},
   "outputs": [],
   "source": [
    "USERNAME = \"testuser\"\n",
    "PASSWORD = \"%o3sH$Qfae\"\n",
    "HOST = \"localhost\""
   ]
  },
  {
   "cell_type": "code",
   "execution_count": null,
   "id": "6a38d134-e392-4599-9459-e7abe812c249",
   "metadata": {},
   "outputs": [],
   "source": [
    "import matplotlib.pyplot as plt\n",
    "plt.rcParams[\"figure.dpi\"] = 200\n",
    "import pandas as pd\n",
    "import seaborn as sns\n",
    "\n",
    "import asyncio\n",
    "import json\n",
    "from memphis._internal import Memphis"
   ]
  },
  {
   "cell_type": "code",
   "execution_count": null,
   "id": "d8a7dae5-4870-45c5-8d0d-8f3102a56615",
   "metadata": {},
   "outputs": [],
   "source": [
    "memphis = Memphis()\n",
    "await memphis.connect(host=HOST, username=USERNAME, password=PASSWORD)"
   ]
  },
  {
   "cell_type": "markdown",
   "id": "1289e545-a2ce-4085-a4b0-d5dc058979b9",
   "metadata": {},
   "source": [
    "## Weekly Transaction Volume"
   ]
  },
  {
   "cell_type": "code",
   "execution_count": null,
   "id": "9e5ec30a-5b05-4cad-9c08-e8106532fb01",
   "metadata": {},
   "outputs": [],
   "source": [
    "consumer = await memphis.consumer(station_name=\"bps-weekly-tx-volume\",\n",
    "                                  consumer_name=\"dashboard\")\n",
    "\n",
    "weekly_msgs = []\n",
    "keep_looping = True\n",
    "while keep_looping:\n",
    "  msgs = await consumer.fetch()\n",
    "  if msgs is None or len(msgs) == 0:\n",
    "      keep_looping = False\n",
    "  else:\n",
    "      for msg in msgs:\n",
    "         weekly_msgs.append(json.loads(msg.get_data()))\n",
    "\n",
    "await consumer.destroy()"
   ]
  },
  {
   "cell_type": "code",
   "execution_count": null,
   "id": "857ac401-2896-4f49-b4e2-0b91f364e67a",
   "metadata": {},
   "outputs": [],
   "source": [
    "weekly_df = pd.DataFrame.from_dict(weekly_msgs)\n",
    "\n",
    "weekly_df.head()"
   ]
  },
  {
   "cell_type": "code",
   "execution_count": null,
   "id": "7819c230-780d-4b06-932d-e0647aef3d8f",
   "metadata": {},
   "outputs": [],
   "source": [
    "fig, ax = plt.subplots()\n",
    "\n",
    "sns.barplot(data=weekly_df, x=\"week_start\", y=\"tx_count\")\n",
    "plt.xlabel(\"Week\", fontsize=16)\n",
    "plt.ylabel(\"Transactions (count)\", fontsize=16)\n",
    "_ = plt.xticks(rotation=45)\n",
    "\n",
    "every_nth = 4\n",
    "for n, label in enumerate(ax.xaxis.get_ticklabels()):\n",
    "    if n % every_nth != 0:\n",
    "        label.set_visible(False)"
   ]
  },
  {
   "cell_type": "markdown",
   "id": "0725d1cd-5e7d-4241-9006-0861e81c8751",
   "metadata": {},
   "source": [
    "The store managers ask if they need to hire temporary staff for the holidays. From the plot, we can see that the number of transactions per week are relatively steady.  The answer is no -- they can focus on hiring permanent staff to manage year-round demand."
   ]
  },
  {
   "cell_type": "markdown",
   "id": "75af55be-3a6f-45aa-832f-7cd4c20dcf8f",
   "metadata": {},
   "source": [
    "## Week-over-Week Product Sales Changes"
   ]
  },
  {
   "cell_type": "code",
   "execution_count": null,
   "id": "c5648037-087c-4347-8e11-efbf9bb89758",
   "metadata": {},
   "outputs": [],
   "source": [
    "consumer = await memphis.consumer(station_name=\"bps-wow-product-sales\",\n",
    "                                  consumer_name=\"dashboard\")\n",
    "\n",
    "weekly_msgs = []\n",
    "keep_looping = True\n",
    "while keep_looping:\n",
    "  msgs = await consumer.fetch()\n",
    "  if msgs is None or len(msgs) == 0:\n",
    "      keep_looping = False\n",
    "  else:\n",
    "      for msg in msgs:\n",
    "         weekly_msgs.append(json.loads(msg.get_data()))\n",
    "\n",
    "await consumer.destroy()"
   ]
  },
  {
   "cell_type": "code",
   "execution_count": null,
   "id": "e2c779e8-1af0-4fe0-bed9-fa5290fbe41a",
   "metadata": {},
   "outputs": [],
   "source": [
    "weekly_df = pd.DataFrame.from_dict(weekly_msgs)\n",
    "\n",
    "weekly_df.head()"
   ]
  },
  {
   "cell_type": "code",
   "execution_count": null,
   "id": "c7fd359c-80bb-4276-9bde-960d662ec7a9",
   "metadata": {},
   "outputs": [],
   "source": [
    "sns.histplot(data=weekly_df, x=\"wow\", bins=\"doane\", log_scale=(True, True))\n",
    "plt.xlabel(\"WoW Change\", fontsize=16)"
   ]
  },
  {
   "cell_type": "markdown",
   "id": "9832fb5e-ed55-4199-be8d-b550e9716199",
   "metadata": {},
   "source": [
    "The store managers want to know if the demand for the products is steady throughout the year.  The plot of week-over-week changes for the products shows that some products see drops (WoW < 0.15) and jumps (WoW > 7.0) in demand."
   ]
  },
  {
   "cell_type": "code",
   "execution_count": null,
   "id": "39582a3e-02a3-45ce-8351-98d494ae9e04",
   "metadata": {},
   "outputs": [],
   "source": [
    "high_wow_df = weekly_df[weekly_df[\"wow\"] > 7.0]\n",
    "high_wow_df.head()"
   ]
  },
  {
   "cell_type": "code",
   "execution_count": null,
   "id": "d2a51ac0-7f34-447d-a631-47ec86f0cd0c",
   "metadata": {},
   "outputs": [],
   "source": [
    "high_wow_df = weekly_df[weekly_df[\"wow\"] < 0.15]\n",
    "high_wow_df.head()"
   ]
  },
  {
   "cell_type": "code",
   "execution_count": null,
   "id": "5e0a2132-84e2-4043-a9c7-02774d0d0001",
   "metadata": {},
   "outputs": [],
   "source": [
    "fig, ax = plt.subplots()\n",
    "\n",
    "mask = weekly_df[\"item_id\"] == 18\n",
    "plt.title(\"Product 18: Dog Leashes\", fontsize=16)\n",
    "sns.barplot(data=weekly_df[mask], x=\"week2_start_date\", y=\"wow\")\n",
    "plt.xlabel(\"Week\", fontsize=16)\n",
    "plt.ylabel(\"Week-over-Week Tx Ratio\", fontsize=16)\n",
    "_ = plt.xticks(rotation=45)\n",
    "\n",
    "every_nth = 4\n",
    "for n, label in enumerate(ax.xaxis.get_ticklabels()):\n",
    "    if n % every_nth != 0:\n",
    "        label.set_visible(False)"
   ]
  },
  {
   "cell_type": "code",
   "execution_count": null,
   "id": "9995e3df-65c8-4216-9953-5ac2eb821136",
   "metadata": {},
   "outputs": [],
   "source": [
    "fig, ax = plt.subplots()\n",
    "\n",
    "mask = weekly_df[\"item_id\"] == 19\n",
    "plt.title(\"Product 19: Dog Harnesses\", fontsize=16)\n",
    "sns.barplot(data=weekly_df[mask], x=\"week2_start_date\", y=\"wow\")\n",
    "plt.xlabel(\"Week\", fontsize=16)\n",
    "plt.ylabel(\"Week-over-Week Tx Ratio\", fontsize=16)\n",
    "_ = plt.xticks(rotation=45)\n",
    "\n",
    "every_nth = 4\n",
    "for n, label in enumerate(ax.xaxis.get_ticklabels()):\n",
    "    if n % every_nth != 0:\n",
    "        label.set_visible(False)"
   ]
  },
  {
   "cell_type": "code",
   "execution_count": null,
   "id": "9ae48d94-23db-43c9-b244-49151ef633c7",
   "metadata": {},
   "outputs": [],
   "source": [
    "fig, ax = plt.subplots()\n",
    "\n",
    "mask = weekly_df[\"item_id\"] == 23\n",
    "sns.barplot(data=weekly_df[mask], x=\"week2_start_date\", y=\"wow\")\n",
    "plt.title(\"Product 23: Outdoor Dog Toys\", fontsize=16)\n",
    "plt.xlabel(\"Week\", fontsize=16)\n",
    "plt.ylabel(\"Week-over-Week Tx Ratio\", fontsize=16)\n",
    "_ = plt.xticks(rotation=45)\n",
    "\n",
    "every_nth = 4\n",
    "for n, label in enumerate(ax.xaxis.get_ticklabels()):\n",
    "    if n % every_nth != 0:\n",
    "        label.set_visible(False)"
   ]
  },
  {
   "cell_type": "markdown",
   "id": "024f3fdd-95e8-4d56-8f54-66e03aaf9a1c",
   "metadata": {},
   "source": [
    "Plots of week-over-week change in sales for products 18, 19, and 23 confirm the jumps and drops in demand."
   ]
  },
  {
   "cell_type": "markdown",
   "id": "d1bfc97b-45c4-4fdd-a4ba-473c4a68b19b",
   "metadata": {},
   "source": [
    "## Weekly Product Sales Volume"
   ]
  },
  {
   "cell_type": "code",
   "execution_count": null,
   "id": "0750ac40-fc54-4aa5-ad52-20e64f4ad518",
   "metadata": {},
   "outputs": [],
   "source": [
    "consumer = await memphis.consumer(station_name=\"bps-weekly-product-sales\",\n",
    "                                  consumer_name=\"dashboard\")\n",
    "\n",
    "weekly_msgs = []\n",
    "keep_looping = True\n",
    "while keep_looping:\n",
    "  msgs = await consumer.fetch()\n",
    "  if msgs is None or len(msgs) == 0:\n",
    "      keep_looping = False\n",
    "  else:\n",
    "      for msg in msgs:\n",
    "         weekly_msgs.append(json.loads(msg.get_data()))\n",
    "\n",
    "await consumer.destroy()"
   ]
  },
  {
   "cell_type": "code",
   "execution_count": null,
   "id": "2cabfbc0-4e47-41ff-853b-3b9a4408f9a9",
   "metadata": {},
   "outputs": [],
   "source": [
    "weekly_df = pd.DataFrame.from_dict(weekly_msgs)\n",
    "\n",
    "weekly_df.head()"
   ]
  },
  {
   "cell_type": "code",
   "execution_count": null,
   "id": "a6e89b2c-a8ad-47c7-878f-0f937eeca22c",
   "metadata": {},
   "outputs": [],
   "source": [
    "fig, ax = plt.subplots()\n",
    "\n",
    "mask = weekly_df[\"item_id\"] == 18\n",
    "plt.title(\"Product 18: Dog Leashes\", fontsize=16)\n",
    "sns.barplot(data=weekly_df[mask], x=\"week_start\", y=\"tx_count\")\n",
    "plt.xlabel(\"Week\", fontsize=16)\n",
    "plt.ylabel(\"Transactions (count)\", fontsize=16)\n",
    "_ = plt.xticks(rotation=45)\n",
    "\n",
    "every_nth = 4\n",
    "for n, label in enumerate(ax.xaxis.get_ticklabels()):\n",
    "    if n % every_nth != 0:\n",
    "        label.set_visible(False)"
   ]
  },
  {
   "cell_type": "code",
   "execution_count": null,
   "id": "94523ebc-41ce-4cd4-a549-b37caad6f3ee",
   "metadata": {},
   "outputs": [],
   "source": [
    "fig, ax = plt.subplots()\n",
    "\n",
    "mask = weekly_df[\"item_id\"] == 19\n",
    "plt.title(\"Product 19: Dog Harnesses\", fontsize=16)\n",
    "sns.barplot(data=weekly_df[mask], x=\"week_start\", y=\"tx_count\")\n",
    "plt.xlabel(\"Week\", fontsize=16)\n",
    "plt.ylabel(\"Transactions (count)\", fontsize=16)\n",
    "_ = plt.xticks(rotation=45)\n",
    "\n",
    "every_nth = 4\n",
    "for n, label in enumerate(ax.xaxis.get_ticklabels()):\n",
    "    if n % every_nth != 0:\n",
    "        label.set_visible(False)"
   ]
  },
  {
   "cell_type": "code",
   "execution_count": null,
   "id": "84e81f76-79c4-4849-8583-50886df990b9",
   "metadata": {},
   "outputs": [],
   "source": [
    "fig, ax = plt.subplots()\n",
    "\n",
    "mask = weekly_df[\"item_id\"] == 23\n",
    "sns.barplot(data=weekly_df[mask], x=\"week_start\", y=\"tx_count\")\n",
    "plt.title(\"Product 23: Outdoor Dog Toys\", fontsize=16)\n",
    "plt.xlabel(\"Week\", fontsize=16)\n",
    "plt.ylabel(\"Transactions (count)\", fontsize=16)\n",
    "_ = plt.xticks(rotation=45)\n",
    "\n",
    "every_nth = 4\n",
    "for n, label in enumerate(ax.xaxis.get_ticklabels()):\n",
    "    if n % every_nth != 0:\n",
    "        label.set_visible(False)"
   ]
  },
  {
   "cell_type": "markdown",
   "id": "6470995c-d9ac-48b1-876d-f02292dfb0fa",
   "metadata": {},
   "source": [
    "Plots of weekly sales for products 18, 19, and 23 more easily demonstrate the seasonal changes in demand.  These three products showed increased demand from Spring through Fall and reduced demand during Winter."
   ]
  },
  {
   "cell_type": "code",
   "execution_count": null,
   "id": "08b140c4-83b4-4713-9a4b-20a071a922fb",
   "metadata": {},
   "outputs": [],
   "source": []
  }
 ],
 "metadata": {
  "kernelspec": {
   "display_name": "Python 3 (ipykernel)",
   "language": "python",
   "name": "python3"
  },
  "language_info": {
   "codemirror_mode": {
    "name": "ipython",
    "version": 3
   },
   "file_extension": ".py",
   "mimetype": "text/x-python",
   "name": "python",
   "nbconvert_exporter": "python",
   "pygments_lexer": "ipython3",
   "version": "3.11.2"
  }
 },
 "nbformat": 4,
 "nbformat_minor": 5
}
